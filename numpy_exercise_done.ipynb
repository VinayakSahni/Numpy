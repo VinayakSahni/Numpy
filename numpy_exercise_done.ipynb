{
 "cells": [
  {
   "cell_type": "code",
   "execution_count": 2,
   "metadata": {},
   "outputs": [],
   "source": [
    "import numpy as np"
   ]
  },
  {
   "cell_type": "code",
   "execution_count": 3,
   "metadata": {},
   "outputs": [],
   "source": [
    "import numpy"
   ]
  },
  {
   "cell_type": "code",
   "execution_count": 19,
   "metadata": {},
   "outputs": [
    {
     "name": "stdout",
     "output_type": "stream",
     "text": [
      "numpy version 1.19.2\n"
     ]
    }
   ],
   "source": [
    "print('numpy version',end=\" \")\n",
    "print(np.__version__)"
   ]
  },
  {
   "cell_type": "code",
   "execution_count": 5,
   "metadata": {},
   "outputs": [],
   "source": [
    "a=np.zeros(10)"
   ]
  },
  {
   "cell_type": "code",
   "execution_count": 20,
   "metadata": {},
   "outputs": [
    {
     "name": "stdout",
     "output_type": "stream",
     "text": [
      "null vector of size 10 [0. 0. 0. 0. 1. 0. 0. 0. 0. 0.]\n"
     ]
    }
   ],
   "source": [
    "print(\"null vector of size 10\",a)"
   ]
  },
  {
   "cell_type": "code",
   "execution_count": 7,
   "metadata": {},
   "outputs": [
    {
     "name": "stdout",
     "output_type": "stream",
     "text": [
      "memory size= size*itemsize: 80\n"
     ]
    }
   ],
   "source": [
    "print('memory size= size*itemsize:', a.size*a.itemsize)"
   ]
  },
  {
   "cell_type": "code",
   "execution_count": 12,
   "metadata": {},
   "outputs": [
    {
     "name": "stdout",
     "output_type": "stream",
     "text": [
      "add(x1, x2, /, out=None, *, where=True, casting='same_kind', order='K', dtype=None, subok=True[, signature, extobj])\n",
      "\n",
      "Add arguments element-wise.\n",
      "\n",
      "Parameters\n",
      "----------\n",
      "x1, x2 : array_like\n",
      "    The arrays to be added.\n",
      "    If ``x1.shape != x2.shape``, they must be broadcastable to a common\n",
      "    shape (which becomes the shape of the output).\n",
      "out : ndarray, None, or tuple of ndarray and None, optional\n",
      "    A location into which the result is stored. If provided, it must have\n",
      "    a shape that the inputs broadcast to. If not provided or None,\n",
      "    a freshly-allocated array is returned. A tuple (possible only as a\n",
      "    keyword argument) must have length equal to the number of outputs.\n",
      "where : array_like, optional\n",
      "    This condition is broadcast over the input. At locations where the\n",
      "    condition is True, the `out` array will be set to the ufunc result.\n",
      "    Elsewhere, the `out` array will retain its original value.\n",
      "    Note that if an uninitialized `out` array is created via the default\n",
      "    ``out=None``, locations within it where the condition is False will\n",
      "    remain uninitialized.\n",
      "**kwargs\n",
      "    For other keyword-only arguments, see the\n",
      "    :ref:`ufunc docs <ufuncs.kwargs>`.\n",
      "\n",
      "Returns\n",
      "-------\n",
      "add : ndarray or scalar\n",
      "    The sum of `x1` and `x2`, element-wise.\n",
      "    This is a scalar if both `x1` and `x2` are scalars.\n",
      "\n",
      "Notes\n",
      "-----\n",
      "Equivalent to `x1` + `x2` in terms of array broadcasting.\n",
      "\n",
      "Examples\n",
      "--------\n",
      ">>> np.add(1.0, 4.0)\n",
      "5.0\n",
      ">>> x1 = np.arange(9.0).reshape((3, 3))\n",
      ">>> x2 = np.arange(3.0)\n",
      ">>> np.add(x1, x2)\n",
      "array([[  0.,   2.,   4.],\n",
      "       [  3.,   5.,   7.],\n",
      "       [  6.,   8.,  10.]])\n"
     ]
    }
   ],
   "source": [
    "numpy.info(numpy.add)"
   ]
  },
  {
   "cell_type": "code",
   "execution_count": 13,
   "metadata": {},
   "outputs": [],
   "source": [
    "a=np.zeros(10)"
   ]
  },
  {
   "cell_type": "code",
   "execution_count": 14,
   "metadata": {},
   "outputs": [],
   "source": [
    "a[4]=1"
   ]
  },
  {
   "cell_type": "code",
   "execution_count": 21,
   "metadata": {},
   "outputs": [
    {
     "name": "stdout",
     "output_type": "stream",
     "text": [
      "null vector of size 10 but fifth value is 1 [0. 0. 0. 0. 1. 0. 0. 0. 0. 0.]\n"
     ]
    }
   ],
   "source": [
    "print('null vector of size 10 but fifth value is 1',a)"
   ]
  },
  {
   "cell_type": "code",
   "execution_count": 22,
   "metadata": {},
   "outputs": [
    {
     "name": "stdout",
     "output_type": "stream",
     "text": [
      "vector with values ranging from 10 to 49\n"
     ]
    },
    {
     "data": {
      "text/plain": [
       "array([10, 11, 12, 13, 14, 15, 16, 17, 18, 19, 20, 21, 22, 23, 24, 25, 26,\n",
       "       27, 28, 29, 30, 31, 32, 33, 34, 35, 36, 37, 38, 39, 40, 41, 42, 43,\n",
       "       44, 45, 46, 47, 48, 49])"
      ]
     },
     "execution_count": 22,
     "metadata": {},
     "output_type": "execute_result"
    }
   ],
   "source": [
    "print('vector with values ranging from 10 to 49')\n",
    "np.arange(10,50)"
   ]
  },
  {
   "cell_type": "code",
   "execution_count": 23,
   "metadata": {},
   "outputs": [
    {
     "name": "stdout",
     "output_type": "stream",
     "text": [
      "Reversing an array using slicing \n"
     ]
    },
    {
     "data": {
      "text/plain": [
       "array([0., 0., 0., 0., 0., 1., 0., 0., 0., 0.])"
      ]
     },
     "execution_count": 23,
     "metadata": {},
     "output_type": "execute_result"
    }
   ],
   "source": [
    "print('Reversing an array using slicing ')\n",
    "a[::-1]"
   ]
  },
  {
   "cell_type": "code",
   "execution_count": 25,
   "metadata": {},
   "outputs": [
    {
     "name": "stdout",
     "output_type": "stream",
     "text": [
      "a 3x3 matrix with values ranging from 0 to 8 [[0 1 2]\n",
      " [3 4 5]\n",
      " [6 7 8]]\n"
     ]
    }
   ],
   "source": [
    "arr=np.arange(0,9)\n",
    "arr=arr.reshape(3,3)\n",
    "print('a 3x3 matrix with values ranging from 0 to 8',arr)"
   ]
  },
  {
   "cell_type": "code",
   "execution_count": 26,
   "metadata": {},
   "outputs": [
    {
     "name": "stdout",
     "output_type": "stream",
     "text": [
      "indices of non-zero elements "
     ]
    },
    {
     "data": {
      "text/plain": [
       "(array([0, 1, 4], dtype=int64),)"
      ]
     },
     "execution_count": 26,
     "metadata": {},
     "output_type": "execute_result"
    }
   ],
   "source": [
    "a=np.array([1,2,0,0,4,0])\n",
    "print('indices of non-zero elements',end=\" \")\n",
    "np.nonzero(a)"
   ]
  },
  {
   "cell_type": "code",
   "execution_count": 27,
   "metadata": {},
   "outputs": [
    {
     "name": "stdout",
     "output_type": "stream",
     "text": [
      "identity matrix\n"
     ]
    },
    {
     "data": {
      "text/plain": [
       "array([[1., 0., 0.],\n",
       "       [0., 1., 0.],\n",
       "       [0., 0., 1.]])"
      ]
     },
     "execution_count": 27,
     "metadata": {},
     "output_type": "execute_result"
    }
   ],
   "source": [
    "print('identity matrix')\n",
    "np.eye(3)"
   ]
  },
  {
   "cell_type": "code",
   "execution_count": 4,
   "metadata": {},
   "outputs": [
    {
     "name": "stdout",
     "output_type": "stream",
     "text": [
      "3x3x3 array with random values\n"
     ]
    },
    {
     "data": {
      "text/plain": [
       "array([[[-0.53287642,  0.88148497, -0.13579415],\n",
       "        [-0.21096224, -0.14329123,  0.69501698],\n",
       "        [-2.13580505,  1.98174546, -0.24760387]],\n",
       "\n",
       "       [[-1.10571311,  1.73736261,  0.9144514 ],\n",
       "        [-0.17243354, -0.80648973,  0.84767294],\n",
       "        [-1.10992963,  1.47371807,  0.9077202 ]],\n",
       "\n",
       "       [[ 0.90148535,  0.17030431,  0.20030357],\n",
       "        [-0.53558139,  0.44112064,  0.01657075],\n",
       "        [ 1.58852552,  1.45576162,  0.35577888]]])"
      ]
     },
     "execution_count": 4,
     "metadata": {},
     "output_type": "execute_result"
    }
   ],
   "source": [
    "print('3x3x3 array with random values')\n",
    "np.random.randn(3,3,3)"
   ]
  },
  {
   "cell_type": "code",
   "execution_count": 7,
   "metadata": {},
   "outputs": [
    {
     "name": "stdout",
     "output_type": "stream",
     "text": [
      "[[ 1.04588263e+00 -8.81561572e-01 -8.22695067e-01 -7.54209253e-01\n",
      "  -6.63490487e-01  4.25618550e-01  2.41819308e-01 -2.27743706e+00\n",
      "  -4.56373202e-01 -7.22961445e-01]\n",
      " [-9.83358846e-01  1.16958415e+00  1.79202912e+00  6.25048790e-01\n",
      "   3.24924698e-01  2.42386556e-01 -3.75098197e-01  6.66711755e-01\n",
      "   1.10751436e+00  1.35850982e+00]\n",
      " [ 7.64052041e-01  2.42363442e+00 -1.14197397e+00  5.74698531e-01\n",
      "  -8.53239717e-01 -4.82843780e-02  7.97256553e-01 -1.09952489e+00\n",
      "   1.87421266e-01 -5.89786412e-01]\n",
      " [ 2.94869086e-01 -1.79692125e+00 -2.94955841e+00  4.30040756e-01\n",
      "   6.27622780e-01  1.71486616e+00 -5.34198529e-01 -6.53749007e-02\n",
      "   6.46065478e-01  1.06437436e+00]\n",
      " [ 2.74207471e-01 -5.52891094e-01 -1.04135597e+00  2.78217311e-01\n",
      "  -5.97258480e-01 -8.18611188e-01  4.72292952e-01 -9.56766182e-02\n",
      "  -1.17686116e+00  9.35573712e-01]\n",
      " [-7.97381617e-01 -7.56922264e-01 -6.20781642e-01  5.99823614e-02\n",
      "   5.00254100e-01 -1.11096342e+00 -3.97641539e-01 -4.41950665e-01\n",
      "  -1.99282297e+00 -4.94809490e-01]\n",
      " [-3.99457629e-01 -6.16646782e-01  2.26194895e-01 -2.34102274e+00\n",
      "  -9.64125002e-02 -2.07531928e-01 -3.40394304e-01  1.23158331e+00\n",
      "   2.15281952e-01  2.01380885e-01]\n",
      " [-4.77687840e-01 -1.99880366e-01 -5.00690337e-01  1.13589678e+00\n",
      "  -8.02368181e-01 -1.62998875e+00 -7.98330958e-01 -9.78472895e-01\n",
      "   1.13895271e+00  1.29861203e-01]\n",
      " [ 2.94280925e-01  9.03292981e-01  1.25724462e+00 -1.52692819e+00\n",
      "   2.73913093e-01 -2.49653562e+00  1.38515963e-03 -4.82961672e-01\n",
      "  -1.81195697e-01  3.60637743e-01]\n",
      " [-4.26976854e-01  9.77322217e-01 -7.89924013e-01 -7.81508308e-01\n",
      "  -2.98034186e-01 -1.78654361e-01  6.79205059e-01 -8.38682726e-01\n",
      "  -8.14895159e-01 -4.61690586e-01]]\n"
     ]
    }
   ],
   "source": [
    "a=np.random.randn(10,10)\n",
    "print(a)"
   ]
  },
  {
   "cell_type": "code",
   "execution_count": 8,
   "metadata": {},
   "outputs": [
    {
     "name": "stdout",
     "output_type": "stream",
     "text": [
      "min- -2.9495584086786506\n",
      "max- 2.4236344167606956\n"
     ]
    }
   ],
   "source": [
    "print('min-',np.min(a))\n",
    "print('max-',np.max(a))"
   ]
  },
  {
   "cell_type": "code",
   "execution_count": 10,
   "metadata": {},
   "outputs": [
    {
     "name": "stdout",
     "output_type": "stream",
     "text": [
      "random vector of size 30 and find the mean value\n",
      "[-1.075282   -1.07525294  1.81962018  0.21730089 -0.57805362  1.13807276\n",
      " -0.60271171  0.12294479 -0.0637096  -1.36796996  0.73043935 -0.52343964\n",
      "  1.18713008 -0.53589626  0.24564999  0.08798448  1.47660637  0.13580861\n",
      "  0.16168954 -0.39065499  0.59306046  0.03583139  0.00195688 -0.14834351\n",
      " -0.01637273 -0.55116718  1.8301473   0.32729867 -0.21091463 -0.39163664]\n",
      "0.0860045437848211\n"
     ]
    }
   ],
   "source": [
    "b=np.random.randn(30)\n",
    "print('random vector of size 30 and find the mean value')\n",
    "print(b)\n",
    "print(np.mean(b))"
   ]
  },
  {
   "cell_type": "code",
   "execution_count": 11,
   "metadata": {},
   "outputs": [
    {
     "name": "stdout",
     "output_type": "stream",
     "text": [
      "2d array with 1 on the border and 0 inside\n",
      "[[1. 1. 1. 1. 1.]\n",
      " [1. 0. 0. 0. 1.]\n",
      " [1. 0. 0. 0. 1.]\n",
      " [1. 0. 0. 0. 1.]\n",
      " [1. 1. 1. 1. 1.]]\n"
     ]
    }
   ],
   "source": [
    "print('2d array with 1 on the border and 0 inside')\n",
    "a=np.ones((5,5))\n",
    "a[1:-1,1:-1]=0\n",
    "print(a)"
   ]
  },
  {
   "cell_type": "code",
   "execution_count": 12,
   "metadata": {},
   "outputs": [
    {
     "name": "stdout",
     "output_type": "stream",
     "text": [
      "add a border (filled with 0's) around an existing array\n",
      "[[0. 0. 0. 0. 0. 0. 0.]\n",
      " [0. 1. 1. 1. 1. 1. 0.]\n",
      " [0. 1. 1. 1. 1. 1. 0.]\n",
      " [0. 1. 1. 1. 1. 1. 0.]\n",
      " [0. 1. 1. 1. 1. 1. 0.]\n",
      " [0. 1. 1. 1. 1. 1. 0.]\n",
      " [0. 0. 0. 0. 0. 0. 0.]]\n"
     ]
    }
   ],
   "source": [
    "print(\"add a border (filled with 0's) around an existing array\")\n",
    "a=np.ones((5,5))\n",
    "a=np.pad(a,pad_width=1, mode='constant', constant_values=0)\n",
    "print(a)"
   ]
  },
  {
   "cell_type": "code",
   "execution_count": 14,
   "metadata": {},
   "outputs": [
    {
     "name": "stdout",
     "output_type": "stream",
     "text": [
      "nan\n",
      "False\n",
      "False\n",
      "nan\n",
      "True\n",
      "False\n"
     ]
    }
   ],
   "source": [
    "print(0 * np.nan)\n",
    "print(np.nan == np.nan)\n",
    "print(np.inf > np.nan)\n",
    "print(np.nan - np.nan)\n",
    "print(np.nan in set([np.nan]))\n",
    "print(0.3 == 3 * 0.1)"
   ]
  },
  {
   "cell_type": "code",
   "execution_count": 16,
   "metadata": {},
   "outputs": [
    {
     "name": "stdout",
     "output_type": "stream",
     "text": [
      "5x5 matrix with values 1,2,3,4 just below the diagonal\n",
      "[[0 0 0 0 0]\n",
      " [1 0 0 0 0]\n",
      " [0 2 0 0 0]\n",
      " [0 0 3 0 0]\n",
      " [0 0 0 4 0]]\n"
     ]
    }
   ],
   "source": [
    "a=np.diag(1+np.arange(4),k=-1)\n",
    "print('5x5 matrix with values 1,2,3,4 just below the diagonal')\n",
    "print(a)"
   ]
  },
  {
   "cell_type": "code",
   "execution_count": 21,
   "metadata": {},
   "outputs": [
    {
     "name": "stdout",
     "output_type": "stream",
     "text": [
      "8x8 matrix and fill it with a checkerboard pattern\n",
      "[[1. 0. 1. 0. 1. 0. 1. 0.]\n",
      " [0. 1. 0. 1. 0. 1. 0. 1.]\n",
      " [1. 0. 1. 0. 1. 0. 1. 0.]\n",
      " [0. 1. 0. 1. 0. 1. 0. 1.]\n",
      " [1. 0. 1. 0. 1. 0. 1. 0.]\n",
      " [0. 1. 0. 1. 0. 1. 0. 1.]\n",
      " [1. 0. 1. 0. 1. 0. 1. 0.]\n",
      " [0. 1. 0. 1. 0. 1. 0. 1.]]\n"
     ]
    }
   ],
   "source": [
    "a=np.zeros((8,8))\n",
    "a[::2,::2]=1\n",
    "a[1::2,1::2]=1\n",
    "print('8x8 matrix and fill it with a checkerboard pattern')\n",
    "print(a)"
   ]
  },
  {
   "cell_type": "code",
   "execution_count": 23,
   "metadata": {},
   "outputs": [
    {
     "name": "stdout",
     "output_type": "stream",
     "text": [
      "(6,7,8) shape array,index (x,y,z) of the 100th element\n",
      "(1, 5, 3)\n"
     ]
    }
   ],
   "source": [
    "print('(6,7,8) shape array,index (x,y,z) of the 100th element:')\n",
    "print(np.unravel_index(99,(6,7,8)))"
   ]
  },
  {
   "cell_type": "code",
   "execution_count": null,
   "metadata": {},
   "outputs": [],
   "source": []
  }
 ],
 "metadata": {
  "kernelspec": {
   "display_name": "Python 3",
   "language": "python",
   "name": "python3"
  },
  "language_info": {
   "codemirror_mode": {
    "name": "ipython",
    "version": 3
   },
   "file_extension": ".py",
   "mimetype": "text/x-python",
   "name": "python",
   "nbconvert_exporter": "python",
   "pygments_lexer": "ipython3",
   "version": "3.8.5"
  }
 },
 "nbformat": 4,
 "nbformat_minor": 4
}
